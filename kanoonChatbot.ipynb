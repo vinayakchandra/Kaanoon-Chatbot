{
 "cells": [
  {
   "cell_type": "code",
   "id": "initial_id",
   "metadata": {
    "collapsed": true,
    "ExecuteTime": {
     "end_time": "2024-09-02T18:31:45.796583Z",
     "start_time": "2024-09-02T18:31:38.818725Z"
    }
   },
   "source": [
    "from langchain.document_loaders import PyPDFLoader\n",
    "\n",
    "loaders = PyPDFLoader(\"constitution.pdf\")\n",
    "pages = loaders.load()"
   ],
   "outputs": [],
   "execution_count": 35
  },
  {
   "metadata": {
    "ExecuteTime": {
     "end_time": "2024-09-02T18:31:45.814584Z",
     "start_time": "2024-09-02T18:31:45.811945Z"
    }
   },
   "cell_type": "code",
   "source": [
    "from langchain.text_splitter import RecursiveCharacterTextSplitter\n",
    "\n",
    "text_splitter = RecursiveCharacterTextSplitter(\n",
    "    chunk_size=1500,\n",
    "    chunk_overlap=200\n",
    ")"
   ],
   "id": "19fcafbefffa2766",
   "outputs": [],
   "execution_count": 36
  },
  {
   "metadata": {
    "ExecuteTime": {
     "end_time": "2024-09-02T18:32:04.774156Z",
     "start_time": "2024-09-02T18:32:04.742661Z"
    }
   },
   "cell_type": "code",
   "source": "splits = text_splitter.split_documents(pages)",
   "id": "7efe883cb2653a7a",
   "outputs": [],
   "execution_count": 41
  },
  {
   "metadata": {
    "ExecuteTime": {
     "end_time": "2024-09-02T18:32:03.254557Z",
     "start_time": "2024-09-02T18:32:03.249775Z"
    }
   },
   "cell_type": "code",
   "source": "len(splits)",
   "id": "63977ed183b35d97",
   "outputs": [
    {
     "data": {
      "text/plain": [
       "776"
      ]
     },
     "execution_count": 40,
     "metadata": {},
     "output_type": "execute_result"
    }
   ],
   "execution_count": 40
  },
  {
   "metadata": {
    "ExecuteTime": {
     "end_time": "2024-09-02T18:40:43.098147Z",
     "start_time": "2024-09-02T18:40:43.092055Z"
    }
   },
   "cell_type": "code",
   "source": "persist_directory = \"DB/chroma\"",
   "id": "6db8ca2543fec9f1",
   "outputs": [],
   "execution_count": 45
  },
  {
   "metadata": {
    "ExecuteTime": {
     "end_time": "2024-09-02T18:40:43.621366Z",
     "start_time": "2024-09-02T18:40:43.593093Z"
    }
   },
   "cell_type": "code",
   "source": [
    "from langchain_community.embeddings import GooglePalmEmbeddings\n",
    "from langchain_google_genai import GoogleGenerativeAI\n",
    "import os\n",
    "from dotenv import load_dotenv\n",
    "\n",
    "load_dotenv()\n",
    "\n",
    "google_api_key = os.getenv(\"GOOGLE_API_KEY\")\n",
    "\n",
    "llm = GoogleGenerativeAI(model=\"models/text-bison-001\", google_api_key=google_api_key, temperature=0.7)\n",
    "\n",
    "embeddings = GooglePalmEmbeddings(google_api_key=google_api_key)\n"
   ],
   "id": "847a6cc6c5fb6da6",
   "outputs": [],
   "execution_count": 46
  },
  {
   "metadata": {
    "ExecuteTime": {
     "end_time": "2024-09-02T18:47:36.632098Z",
     "start_time": "2024-09-02T18:40:44.529723Z"
    }
   },
   "cell_type": "code",
   "source": [
    "from langchain_chroma import Chroma\n",
    "\n",
    "vectordb = Chroma.from_documents(\n",
    "    documents=splits,\n",
    "    embedding=embeddings,\n",
    "    persist_directory=persist_directory\n",
    ")\n",
    "vectordb.persist()\n"
   ],
   "id": "f883859abe989dd7",
   "outputs": [
    {
     "name": "stderr",
     "output_type": "stream",
     "text": [
      "I0000 00:00:1725302444.625064 4185148 check_gcp_environment_no_op.cc:29] ALTS: Platforms other than Linux and Windows are not supported\n"
     ]
    },
    {
     "ename": "AttributeError",
     "evalue": "'Chroma' object has no attribute 'persist'",
     "output_type": "error",
     "traceback": [
      "\u001B[0;31m---------------------------------------------------------------------------\u001B[0m",
      "\u001B[0;31mAttributeError\u001B[0m                            Traceback (most recent call last)",
      "Cell \u001B[0;32mIn[47], line 8\u001B[0m\n\u001B[1;32m      1\u001B[0m \u001B[38;5;28;01mfrom\u001B[39;00m \u001B[38;5;21;01mlangchain_chroma\u001B[39;00m \u001B[38;5;28;01mimport\u001B[39;00m Chroma\n\u001B[1;32m      3\u001B[0m vectordb \u001B[38;5;241m=\u001B[39m Chroma\u001B[38;5;241m.\u001B[39mfrom_documents(\n\u001B[1;32m      4\u001B[0m     documents\u001B[38;5;241m=\u001B[39msplits,\n\u001B[1;32m      5\u001B[0m     embedding\u001B[38;5;241m=\u001B[39membeddings,\n\u001B[1;32m      6\u001B[0m     persist_directory\u001B[38;5;241m=\u001B[39mpersist_directory\n\u001B[1;32m      7\u001B[0m )\n\u001B[0;32m----> 8\u001B[0m \u001B[43mvectordb\u001B[49m\u001B[38;5;241;43m.\u001B[39;49m\u001B[43mpersist\u001B[49m()\n",
      "\u001B[0;31mAttributeError\u001B[0m: 'Chroma' object has no attribute 'persist'"
     ]
    }
   ],
   "execution_count": 47
  },
  {
   "metadata": {
    "ExecuteTime": {
     "end_time": "2024-09-02T18:50:45.483251Z",
     "start_time": "2024-09-02T18:50:45.445938Z"
    }
   },
   "cell_type": "code",
   "source": "vectordb = Chroma(persist_directory=persist_directory, embedding_function=embeddings)\n",
   "id": "a17768aa12fd8792",
   "outputs": [],
   "execution_count": 48
  },
  {
   "metadata": {
    "ExecuteTime": {
     "end_time": "2024-09-02T18:50:47.033306Z",
     "start_time": "2024-09-02T18:50:47.030885Z"
    }
   },
   "cell_type": "code",
   "source": "question = \"Formation of new States and alteration of areas, boundaries or names of existing States\"",
   "id": "dd427fd7cea6dd2a",
   "outputs": [],
   "execution_count": 49
  },
  {
   "metadata": {
    "ExecuteTime": {
     "end_time": "2024-09-02T18:50:47.710346Z",
     "start_time": "2024-09-02T18:50:47.206729Z"
    }
   },
   "cell_type": "code",
   "source": "docs = vectordb.similarity_search(question, k=2)",
   "id": "87d58da039fb0179",
   "outputs": [],
   "execution_count": 50
  },
  {
   "metadata": {
    "ExecuteTime": {
     "end_time": "2024-09-02T18:50:47.717848Z",
     "start_time": "2024-09-02T18:50:47.716490Z"
    }
   },
   "cell_type": "code",
   "source": "",
   "id": "202c84c6f47f3641",
   "outputs": [],
   "execution_count": null
  },
  {
   "metadata": {
    "ExecuteTime": {
     "end_time": "2024-09-02T18:50:47.740703Z",
     "start_time": "2024-09-02T18:50:47.737418Z"
    }
   },
   "cell_type": "code",
   "source": "len(docs)",
   "id": "d9b5e0c8d815c2be",
   "outputs": [
    {
     "data": {
      "text/plain": [
       "2"
      ]
     },
     "execution_count": 51,
     "metadata": {},
     "output_type": "execute_result"
    }
   ],
   "execution_count": 51
  },
  {
   "metadata": {
    "ExecuteTime": {
     "end_time": "2024-09-02T18:50:47.827223Z",
     "start_time": "2024-09-02T18:50:47.825288Z"
    }
   },
   "cell_type": "code",
   "source": "print(docs[0].page_content)",
   "id": "61854634051ae0aa",
   "outputs": [
    {
     "name": "stdout",
     "output_type": "stream",
     "text": [
      "4. Subs. by the Uttaranchal (Alteration of Name) Act, 2006 (52 of 2006), s. 4, for the \n",
      "word \"Uttaranchal\" (w.e.f. 1-1-2007).\n",
      "5. Added by the Bihar Reorganisation Act, 2000 (30 of 2000), s. 5 (w.e.f. 15-11-\n",
      "2000).\n",
      "6. Ins. by the Andhra Pradesh Reorganisation Act, 2014, s. 10 (w.e.f. 2-6-2014). \n",
      "7. Entry 2 relating to \"Himachal Pradesh\" omitted and entries 3 to 10 renumbered as \n",
      "entries 2 to 9 respectively by the State of Himachal Pradesh Act, 1970 (53 of 1970), \n",
      "s. 4 (w.e.f. 25-1-1971)and subsequently entries relating to Manipur and Tripura (i.e. \n",
      "entries 2 and 3) omitted by the North-Eastern Areas (Reorganisation) Act, 1971 (81 \n",
      "of 1971) s. 9 (w.e.f. 21-1-1972).\n",
      "8. Entries 4 to 9 renumbered as entries 2 to 7 by the North-Eastern Areas \n",
      "(Reorganisation) Act, 1971 (81 of 1971), s. 9 (w.e.f. 21-1-1972).\n"
     ]
    }
   ],
   "execution_count": 52
  },
  {
   "metadata": {
    "ExecuteTime": {
     "end_time": "2024-09-02T18:50:47.931459Z",
     "start_time": "2024-09-02T18:50:47.929043Z"
    }
   },
   "cell_type": "code",
   "source": "# vectordb.persist()",
   "id": "ebb9378a6cfd82ae",
   "outputs": [],
   "execution_count": 53
  },
  {
   "metadata": {
    "ExecuteTime": {
     "end_time": "2024-09-02T18:50:48.573153Z",
     "start_time": "2024-09-02T18:50:47.997325Z"
    }
   },
   "cell_type": "code",
   "source": [
    "# source\n",
    "docs = vectordb.similarity_search(question, k=3)\n",
    "for doc in docs:\n",
    "    print(doc.metadata)"
   ],
   "id": "f4d84ea4846a6ead",
   "outputs": [
    {
     "name": "stdout",
     "output_type": "stream",
     "text": [
      "{'page': 290, 'source': 'constitution.pdf'}\n",
      "{'page': 288, 'source': 'constitution.pdf'}\n",
      "{'page': 304, 'source': 'constitution.pdf'}\n"
     ]
    }
   ],
   "execution_count": 54
  },
  {
   "metadata": {
    "ExecuteTime": {
     "end_time": "2024-09-02T18:50:48.656705Z",
     "start_time": "2024-09-02T18:50:48.651595Z"
    }
   },
   "cell_type": "code",
   "source": "vectordb = Chroma(persist_directory=persist_directory, embedding_function=embeddings)",
   "id": "573e98b041f3e28",
   "outputs": [],
   "execution_count": 55
  },
  {
   "metadata": {
    "ExecuteTime": {
     "end_time": "2024-09-02T18:50:49.138601Z",
     "start_time": "2024-09-02T18:50:48.685673Z"
    }
   },
   "cell_type": "code",
   "source": [
    "question = \"Formation of new States and alteration of areas, boundaries or names of existing States\"\n",
    "docs = vectordb.similarity_search(question, k=2)\n",
    "len(docs)"
   ],
   "id": "bb511ce73b5a5464",
   "outputs": [
    {
     "data": {
      "text/plain": [
       "2"
      ]
     },
     "execution_count": 56,
     "metadata": {},
     "output_type": "execute_result"
    }
   ],
   "execution_count": 56
  },
  {
   "metadata": {
    "ExecuteTime": {
     "end_time": "2024-09-02T18:50:49.360171Z",
     "start_time": "2024-09-02T18:50:49.230665Z"
    }
   },
   "cell_type": "code",
   "source": [
    "from langchain.chains import RetrievalQAWithSourcesChain\n",
    "\n",
    "chain = RetrievalQAWithSourcesChain.from_llm(llm=llm, retriever=vectordb.as_retriever())\n",
    "chain"
   ],
   "id": "f112251b6646b13a",
   "outputs": [
    {
     "data": {
      "text/plain": [
       "RetrievalQAWithSourcesChain(combine_documents_chain=MapReduceDocumentsChain(llm_chain=LLMChain(prompt=PromptTemplate(input_variables=['context', 'question'], template='Use the following portion of a long document to see if any of the text is relevant to answer the question. \\nReturn any relevant text verbatim.\\n{context}\\nQuestion: {question}\\nRelevant text, if any:'), llm=GoogleGenerativeAI(model='models/text-bison-001', google_api_key=SecretStr('**********'), client=<module 'google.generativeai' from '/Library/Frameworks/Python.framework/Versions/3.12/lib/python3.12/site-packages/google/generativeai/__init__.py'>)), reduce_documents_chain=ReduceDocumentsChain(combine_documents_chain=StuffDocumentsChain(llm_chain=LLMChain(prompt=PromptTemplate(input_variables=['question', 'summaries'], template='Given the following extracted parts of a long document and a question, create a final answer with references (\"SOURCES\"). \\nIf you don\\'t know the answer, just say that you don\\'t know. Don\\'t try to make up an answer.\\nALWAYS return a \"SOURCES\" part in your answer.\\n\\nQUESTION: Which state/country\\'s law governs the interpretation of the contract?\\n=========\\nContent: This Agreement is governed by English law and the parties submit to the exclusive jurisdiction of the English courts in  relation to any dispute (contractual or non-contractual) concerning this Agreement save that either party may apply to any court for an  injunction or other relief to protect its Intellectual Property Rights.\\nSource: 28-pl\\nContent: No Waiver. Failure or delay in exercising any right or remedy under this Agreement shall not constitute a waiver of such (or any other)  right or remedy.\\n\\n11.7 Severability. The invalidity, illegality or unenforceability of any term (or part of a term) of this Agreement shall not affect the continuation  in force of the remainder of the term (if any) and this Agreement.\\n\\n11.8 No Agency. Except as expressly stated otherwise, nothing in this Agreement shall create an agency, partnership or joint venture of any  kind between the parties.\\n\\n11.9 No Third-Party Beneficiaries.\\nSource: 30-pl\\nContent: (b) if Google believes, in good faith, that the Distributor has violated or caused Google to violate any Anti-Bribery Laws (as  defined in Clause 8.5) or that such a violation is reasonably likely to occur,\\nSource: 4-pl\\n=========\\nFINAL ANSWER: This Agreement is governed by English law.\\nSOURCES: 28-pl\\n\\nQUESTION: What did the president say about Michael Jackson?\\n=========\\nContent: Madam Speaker, Madam Vice President, our First Lady and Second Gentleman. Members of Congress and the Cabinet. Justices of the Supreme Court. My fellow Americans.  \\n\\nLast year COVID-19 kept us apart. This year we are finally together again. \\n\\nTonight, we meet as Democrats Republicans and Independents. But most importantly as Americans. \\n\\nWith a duty to one another to the American people to the Constitution. \\n\\nAnd with an unwavering resolve that freedom will always triumph over tyranny. \\n\\nSix days ago, Russia’s Vladimir Putin sought to shake the foundations of the free world thinking he could make it bend to his menacing ways. But he badly miscalculated. \\n\\nHe thought he could roll into Ukraine and the world would roll over. Instead he met a wall of strength he never imagined. \\n\\nHe met the Ukrainian people. \\n\\nFrom President Zelenskyy to every Ukrainian, their fearlessness, their courage, their determination, inspires the world. \\n\\nGroups of citizens blocking tanks with their bodies. Everyone from students to retirees teachers turned soldiers defending their homeland.\\nSource: 0-pl\\nContent: And we won’t stop. \\n\\nWe have lost so much to COVID-19. Time with one another. And worst of all, so much loss of life. \\n\\nLet’s use this moment to reset. Let’s stop looking at COVID-19 as a partisan dividing line and see it for what it is: A God-awful disease.  \\n\\nLet’s stop seeing each other as enemies, and start seeing each other for who we really are: Fellow Americans.  \\n\\nWe can’t change how divided we’ve been. But we can change how we move forward—on COVID-19 and other issues we must face together. \\n\\nI recently visited the New York City Police Department days after the funerals of Officer Wilbert Mora and his partner, Officer Jason Rivera. \\n\\nThey were responding to a 9-1-1 call when a man shot and killed them with a stolen gun. \\n\\nOfficer Mora was 27 years old. \\n\\nOfficer Rivera was 22. \\n\\nBoth Dominican Americans who’d grown up on the same streets they later chose to patrol as police officers. \\n\\nI spoke with their families and told them that we are forever in debt for their sacrifice, and we will carry on their mission to restore the trust and safety every community deserves.\\nSource: 24-pl\\nContent: And a proud Ukrainian people, who have known 30 years  of independence, have repeatedly shown that they will not tolerate anyone who tries to take their country backwards.  \\n\\nTo all Americans, I will be honest with you, as I’ve always promised. A Russian dictator, invading a foreign country, has costs around the world. \\n\\nAnd I’m taking robust action to make sure the pain of our sanctions  is targeted at Russia’s economy. And I will use every tool at our disposal to protect American businesses and consumers. \\n\\nTonight, I can announce that the United States has worked with 30 other countries to release 60 Million barrels of oil from reserves around the world.  \\n\\nAmerica will lead that effort, releasing 30 Million barrels from our own Strategic Petroleum Reserve. And we stand ready to do more if necessary, unified with our allies.  \\n\\nThese steps will help blunt gas prices here at home. And I know the news about what’s happening can seem alarming. \\n\\nBut I want you to know that we are going to be okay.\\nSource: 5-pl\\nContent: More support for patients and families. \\n\\nTo get there, I call on Congress to fund ARPA-H, the Advanced Research Projects Agency for Health. \\n\\nIt’s based on DARPA—the Defense Department project that led to the Internet, GPS, and so much more.  \\n\\nARPA-H will have a singular purpose—to drive breakthroughs in cancer, Alzheimer’s, diabetes, and more. \\n\\nA unity agenda for the nation. \\n\\nWe can do this. \\n\\nMy fellow Americans—tonight , we have gathered in a sacred space—the citadel of our democracy. \\n\\nIn this Capitol, generation after generation, Americans have debated great questions amid great strife, and have done great things. \\n\\nWe have fought for freedom, expanded liberty, defeated totalitarianism and terror. \\n\\nAnd built the strongest, freest, and most prosperous nation the world has ever known. \\n\\nNow is the hour. \\n\\nOur moment of responsibility. \\n\\nOur test of resolve and conscience, of history itself. \\n\\nIt is in this moment that our character is formed. Our purpose is found. Our future is forged. \\n\\nWell I know this nation.\\nSource: 34-pl\\n=========\\nFINAL ANSWER: The president did not mention Michael Jackson.\\nSOURCES:\\n\\nQUESTION: {question}\\n=========\\n{summaries}\\n=========\\nFINAL ANSWER:'), llm=GoogleGenerativeAI(model='models/text-bison-001', google_api_key=SecretStr('**********'), client=<module 'google.generativeai' from '/Library/Frameworks/Python.framework/Versions/3.12/lib/python3.12/site-packages/google/generativeai/__init__.py'>)), document_prompt=PromptTemplate(input_variables=['page_content', 'source'], template='Content: {page_content}\\nSource: {source}'), document_variable_name='summaries')), document_variable_name='context'), retriever=VectorStoreRetriever(tags=['Chroma', 'GooglePalmEmbeddings'], vectorstore=<langchain_chroma.vectorstores.Chroma object at 0x175d2a150>))"
      ]
     },
     "execution_count": 57,
     "metadata": {},
     "output_type": "execute_result"
    }
   ],
   "execution_count": 57
  },
  {
   "metadata": {
    "ExecuteTime": {
     "end_time": "2024-09-02T18:50:49.426848Z",
     "start_time": "2024-09-02T18:50:49.425217Z"
    }
   },
   "cell_type": "code",
   "source": [
    "# result = chain({\"question\": question})\n",
    "# result"
   ],
   "id": "bc5ce4cd6f2384d0",
   "outputs": [],
   "execution_count": 58
  },
  {
   "metadata": {
    "ExecuteTime": {
     "end_time": "2024-09-02T18:50:49.457405Z",
     "start_time": "2024-09-02T18:50:49.453882Z"
    }
   },
   "cell_type": "code",
   "source": [
    "from langchain.prompts import PromptTemplate\n",
    "\n",
    "template = \"\"\"Use the following pieces of context to answer the question at the end. If you don't know the answer, just say you dont know the answer. Dont make up the answer.\n",
    "{context}\n",
    "Question: {question}\n",
    "Helpful Answer:\"\"\"\n",
    "QA_CHAIN_PROMPT = PromptTemplate.from_template(template)"
   ],
   "id": "18807e21749995b",
   "outputs": [],
   "execution_count": 59
  },
  {
   "metadata": {
    "ExecuteTime": {
     "end_time": "2024-09-02T18:50:49.499424Z",
     "start_time": "2024-09-02T18:50:49.488601Z"
    }
   },
   "cell_type": "code",
   "source": [
    "from langchain.chains.retrieval_qa.base import RetrievalQA\n",
    "\n",
    "qa_chain = RetrievalQA.from_chain_type(llm=llm,\n",
    "                                       chain_type_kwargs={\"prompt\": QA_CHAIN_PROMPT},\n",
    "                                       return_source_documents=True,\n",
    "                                       retriever=vectordb.as_retriever())"
   ],
   "id": "254cb820f5b8d533",
   "outputs": [],
   "execution_count": 60
  },
  {
   "metadata": {
    "ExecuteTime": {
     "end_time": "2024-09-02T18:50:49.625782Z",
     "start_time": "2024-09-02T18:50:49.623967Z"
    }
   },
   "cell_type": "code",
   "source": "question = \"Rights of citizenship of certain migrants to Pakistan\"",
   "id": "80146cbdd426fbdf",
   "outputs": [],
   "execution_count": 61
  },
  {
   "metadata": {
    "ExecuteTime": {
     "end_time": "2024-09-02T18:50:58.840573Z",
     "start_time": "2024-09-02T18:50:49.779413Z"
    }
   },
   "cell_type": "code",
   "source": "result = qa_chain({\"query\": question})",
   "id": "7aa705a45d5abdf5",
   "outputs": [
    {
     "name": "stderr",
     "output_type": "stream",
     "text": [
      "/Library/Frameworks/Python.framework/Versions/3.12/lib/python3.12/site-packages/langchain_core/_api/deprecation.py:141: LangChainDeprecationWarning: The method `Chain.__call__` was deprecated in langchain 0.1.0 and will be removed in 1.0. Use invoke instead.\n",
      "  warn_deprecated(\n"
     ]
    }
   ],
   "execution_count": 62
  },
  {
   "metadata": {
    "ExecuteTime": {
     "end_time": "2024-09-02T18:50:58.906937Z",
     "start_time": "2024-09-02T18:50:58.900272Z"
    }
   },
   "cell_type": "code",
   "source": "result",
   "id": "1cd7262bfe8b829d",
   "outputs": [
    {
     "data": {
      "text/plain": [
       "{'query': 'Rights of citizenship of certain migrants to Pakistan',\n",
       " 'result': 'Notwithstanding anything in articles 5 and 6, a person who has after the first day of March, 1947, migrated from the territory of India to the territory now included in Pakistan shall not be deemed to be a citizen of India:\\n\\nProvided that nothing in this article shall apply to a person who, after having so migrated to the territory now included in Pakistan, has returned to the territory of India under a permit for resettlement or permanent return issued by or under the authority of any law and every such person shall for the purposes of clause ( b) of article 6 be deemed to have migrated to the territory of India after the nineteenth day of July, 1948.',\n",
       " 'source_documents': [Document(metadata={'page': 34, 'source': 'constitution.pdf'}, page_content='Dominion of India on an application made by him therefor to such \\nofficer before the commencement of this Constitution in the form and \\nmanner prescribed by that Government:\\nProvided that no person shall be so registered unless he has been resident \\nin the territory of India for at least six months immediately preceding the date \\nof his application.\\n7. Rights of citizenship of certain migrants to Pakistan .—\\nNotwithstanding anything in articles 5 and 6, a person who has after the first \\nday of March, 1947, migrated from the territory of India to the territory now \\nincluded in Pakistan shall not be deemed to be a citizen of India:'),\n",
       "  Document(metadata={'page': 35, 'source': 'constitution.pdf'}, page_content='THE CONSTITUTION OF INDIA\\n(Part II.—Citizenship)5\\nProvided that nothing in this article shall apply to a person who, after \\nhaving so migrated to the territory now included in Pakistan, has returned to the \\nterritory of India under a permit for resettlement or permanent return issued by \\nor under the authority of any law and every such person shall for the purposes \\nof clause ( b) of article 6 be deemed to have migrated to the territory of India \\nafter the nineteenth day of July, 1948.\\n8. Rights of citizenship of certain persons of Indian origin residing \\noutside India. —Notwithstanding anything in article 5, any person who or \\neither of whose parents or any of whose grand-parents was born in India as \\ndefined in the Government of India Act, 1935 (as originally enacted), and who \\nis ordinarily residing in any country outside India as so defined shall be deemed \\nto be a citizen of India if he has been registered as a citizen of India by the \\ndiplomatic or consular representative of India in the country where he is for the \\ntime being residing on an application made by him therefor to such diplomatic \\nor consular representative, whether before or after the commencement of this \\nConstitution, in the form and manner prescribed by the Government of the \\nDominion of India or the Government of India. \\n9. Persons voluntarily acquiring citizenship of a foreign State not to \\nbe citizens. —No person shall be a citizen of India by virtue of article 5, or be'),\n",
       "  Document(metadata={'page': 34, 'source': 'constitution.pdf'}, page_content='4PART II\\nCITIZENSHIP \\n5. Citizenship at the commencement of the Constitution. —At the \\ncommencement of this Constitution, every person who has his domicile in the \\nterritory of India and—\\n(a) who was born in the territory of India; or \\n(b) either of whose parents was born in the territory of India; or\\n(c) who has been ordinarily resident in the territory of India for \\nnot less than five years immediately preceding such commencement,  \\nshall be a citizen of India.\\n6. Rights of citizenship of certain persons who have migrated to \\nIndia from Pakistan .—Notwithstanding anything in article 5, a person who \\nhas migrated to the territory of India from the territory now included in \\nPakistan shall be deemed to be a citizen of India at the commencement of this \\nConstitution if—\\n(a) he or either of his parents or any of his grand-parents was born \\nin India as defined in the Government of India Act, 1935 (as originally \\nenacted); and\\n(b)(i) in the case where such person has so migrated before the \\nnineteenth day of July, 1948, he has been ordinarily resident in the \\nterritory of India since the date of his migration, or\\n(ii) in the case where such person has so migrated on or after the \\nnineteenth day of July, 1948, he has been registered as a citizen of India \\nby an officer appointed in that behalf by the Government of the \\nDominion of India on an application made by him therefor to such \\nofficer before the commencement of this Constitution in the form and'),\n",
       "  Document(metadata={'page': 35, 'source': 'constitution.pdf'}, page_content='9. Persons voluntarily acquiring citizenship of a foreign State not to \\nbe citizens. —No person shall be a citizen of India by virtue of article 5, or be \\ndeemed to be a citizen of India by virtue of article 6 or article 8, if he has \\nvoluntarily acquired the citizenship of any foreign State.\\n10. Continuance of the rights of citizenship. —Every person who is or \\nis deemed to be a citizen of India under any of the foregoing provisions of this \\nPart shall, subject to the provisions of any law that may be made by Parliament, \\ncontinue to be such citizen.\\n11. Parliament to regulate the right of citizenship by law. —Nothing \\nin the foregoing provisions of this Part shall derogate from the power of \\nParliament to make any provision with respect to the acquisition and \\ntermination of citizenship and all other matters relating to citizenship.')]}"
      ]
     },
     "execution_count": 63,
     "metadata": {},
     "output_type": "execute_result"
    }
   ],
   "execution_count": 63
  },
  {
   "metadata": {
    "ExecuteTime": {
     "end_time": "2024-09-02T18:50:59.026411Z",
     "start_time": "2024-09-02T18:50:59.023436Z"
    }
   },
   "cell_type": "code",
   "source": "print(result[\"result\"])",
   "id": "df6df647511bf3d5",
   "outputs": [
    {
     "name": "stdout",
     "output_type": "stream",
     "text": [
      "Notwithstanding anything in articles 5 and 6, a person who has after the first day of March, 1947, migrated from the territory of India to the territory now included in Pakistan shall not be deemed to be a citizen of India:\n",
      "\n",
      "Provided that nothing in this article shall apply to a person who, after having so migrated to the territory now included in Pakistan, has returned to the territory of India under a permit for resettlement or permanent return issued by or under the authority of any law and every such person shall for the purposes of clause ( b) of article 6 be deemed to have migrated to the territory of India after the nineteenth day of July, 1948.\n"
     ]
    }
   ],
   "execution_count": 64
  },
  {
   "metadata": {
    "ExecuteTime": {
     "end_time": "2024-09-02T18:50:59.280295Z",
     "start_time": "2024-09-02T18:50:59.277172Z"
    }
   },
   "cell_type": "code",
   "source": "print(result[\"source_documents\"][0])",
   "id": "413ac8de7209ae8",
   "outputs": [
    {
     "name": "stdout",
     "output_type": "stream",
     "text": [
      "page_content='Dominion of India on an application made by him therefor to such \n",
      "officer before the commencement of this Constitution in the form and \n",
      "manner prescribed by that Government:\n",
      "Provided that no person shall be so registered unless he has been resident \n",
      "in the territory of India for at least six months immediately preceding the date \n",
      "of his application.\n",
      "7. Rights of citizenship of certain migrants to Pakistan .—\n",
      "Notwithstanding anything in articles 5 and 6, a person who has after the first \n",
      "day of March, 1947, migrated from the territory of India to the territory now \n",
      "included in Pakistan shall not be deemed to be a citizen of India:' metadata={'page': 34, 'source': 'constitution.pdf'}\n"
     ]
    }
   ],
   "execution_count": 65
  },
  {
   "metadata": {
    "ExecuteTime": {
     "end_time": "2024-09-02T18:50:59.334062Z",
     "start_time": "2024-09-02T18:50:59.330469Z"
    }
   },
   "cell_type": "code",
   "source": [
    "#map reduce\n",
    "\n",
    "qa_chain = RetrievalQA.from_chain_type(llm=llm,\n",
    "                                       chain_type=\"map_reduce\",\n",
    "                                       retriever=vectordb.as_retriever())"
   ],
   "id": "7152467edd024169",
   "outputs": [],
   "execution_count": 66
  },
  {
   "metadata": {
    "ExecuteTime": {
     "end_time": "2024-09-02T18:51:11.726188Z",
     "start_time": "2024-09-02T18:50:59.360131Z"
    }
   },
   "cell_type": "code",
   "source": [
    "question = \"rights of india\"\n",
    "result = qa_chain({\"query\": question})"
   ],
   "id": "76367ce78652ed3b",
   "outputs": [],
   "execution_count": 67
  },
  {
   "metadata": {
    "ExecuteTime": {
     "end_time": "2024-09-02T18:51:11.755218Z",
     "start_time": "2024-09-02T18:51:11.751688Z"
    }
   },
   "cell_type": "code",
   "source": "print(result[\"result\"])",
   "id": "6a7789244d783751",
   "outputs": [
    {
     "name": "stdout",
     "output_type": "stream",
     "text": [
      "to reside and settle in any part of the territory of India; to practise any profession, or to carry on any occupation, trade or business\n"
     ]
    }
   ],
   "execution_count": 68
  },
  {
   "metadata": {
    "ExecuteTime": {
     "end_time": "2024-09-02T18:51:11.864715Z",
     "start_time": "2024-09-02T18:51:11.862315Z"
    }
   },
   "cell_type": "code",
   "source": [
    "#build prompt\n",
    "\n",
    "template = \"\"\"Use the following pieces of context to answer the question at the end. If you don't know the answer, just say you dont know the answer. Dont make up the answer.\n",
    "{context}\n",
    "Question: {question}\n",
    "Helpful Answer:\"\"\"\n",
    "QA_CHAIN_PROMPT = PromptTemplate(input_variables=[\"context\", \"question\"], template=template)\n"
   ],
   "id": "ebd8a893429df3a8",
   "outputs": [],
   "execution_count": 69
  },
  {
   "metadata": {
    "ExecuteTime": {
     "end_time": "2024-09-02T18:51:16.648081Z",
     "start_time": "2024-09-02T18:51:11.899514Z"
    }
   },
   "cell_type": "code",
   "source": [
    "#run chain\n",
    "question = \"What are the rights of woman in india?\"\n",
    "\n",
    "qa_chain = RetrievalQA.from_chain_type(llm=llm,\n",
    "                                       chain_type_kwargs={\"prompt\": QA_CHAIN_PROMPT},\n",
    "                                       return_source_documents=True,\n",
    "                                       retriever=vectordb.as_retriever())\n",
    "result = qa_chain({\"query\": question})\n",
    "print(result['result'])"
   ],
   "id": "b786e7409018def4",
   "outputs": [
    {
     "name": "stdout",
     "output_type": "stream",
     "text": [
      "Article 15(3) provides that Nothing in this article shall prevent the State from making any special provision for women and children.\n"
     ]
    }
   ],
   "execution_count": 70
  },
  {
   "metadata": {
    "ExecuteTime": {
     "end_time": "2024-09-02T18:51:16.693891Z",
     "start_time": "2024-09-02T18:51:16.670065Z"
    }
   },
   "cell_type": "code",
   "source": [
    "#chat history buffer\n",
    "from langchain.memory import ConversationBufferMemory\n",
    "\n",
    "memory = ConversationBufferMemory(\n",
    "    memory_key=\"chat_history\",\n",
    "    return_messages=True\n",
    ")"
   ],
   "id": "168268a6bffcb95c",
   "outputs": [],
   "execution_count": 71
  },
  {
   "metadata": {
    "ExecuteTime": {
     "end_time": "2024-09-02T18:51:16.723685Z",
     "start_time": "2024-09-02T18:51:16.705404Z"
    }
   },
   "cell_type": "code",
   "source": [
    "from langchain.chains.conversational_retrieval.base import ConversationalRetrievalChain\n",
    "\n",
    "retriever = vectordb.as_retriever()\n",
    "qa = ConversationalRetrievalChain.from_llm(\n",
    "    llm,\n",
    "    retriever=retriever,\n",
    "    memory=memory\n",
    ")\n"
   ],
   "id": "ec260fd0ee4d25e9",
   "outputs": [],
   "execution_count": 72
  },
  {
   "metadata": {
    "ExecuteTime": {
     "end_time": "2024-09-02T18:51:21.191913Z",
     "start_time": "2024-09-02T18:51:16.729748Z"
    }
   },
   "cell_type": "code",
   "source": [
    "question = \"What does it say specifically say about equality?\"\n",
    "result = qa({\"question\": question})"
   ],
   "id": "a92aa66484ad88e8",
   "outputs": [],
   "execution_count": 73
  },
  {
   "metadata": {
    "ExecuteTime": {
     "end_time": "2024-09-02T18:51:21.236750Z",
     "start_time": "2024-09-02T18:51:21.233237Z"
    }
   },
   "cell_type": "code",
   "source": "print(result[\"answer\"])",
   "id": "3b332c9622b509e",
   "outputs": [
    {
     "name": "stdout",
     "output_type": "stream",
     "text": [
      "Article 14 states that all persons are equal before the law and article 15 prohibits discrimination on grounds of religion, race, caste, sex, place of birth or any of them.\n"
     ]
    }
   ],
   "execution_count": 74
  },
  {
   "metadata": {
    "ExecuteTime": {
     "end_time": "2024-09-02T18:51:27.924692Z",
     "start_time": "2024-09-02T18:51:21.328959Z"
    }
   },
   "cell_type": "code",
   "source": [
    "question = \"what was the constitution before 1930?\"\n",
    "result = qa({\"question\": question})\n",
    "print(result[\"answer\"])"
   ],
   "id": "7794b64a2a635940",
   "outputs": [
    {
     "name": "stdout",
     "output_type": "stream",
     "text": [
      "The Government of India Act 1935 was the constitution of India before 1930.\n"
     ]
    }
   ],
   "execution_count": 75
  },
  {
   "metadata": {
    "ExecuteTime": {
     "end_time": "2024-09-02T18:51:35.185843Z",
     "start_time": "2024-09-02T18:51:28.031016Z"
    }
   },
   "cell_type": "code",
   "source": [
    "question = \"what all are the fundamental rights of a person\"\n",
    "result = qa({\"question\": question})\n",
    "print(result[\"answer\"])"
   ],
   "id": "882033def1560e0a",
   "outputs": [
    {
     "name": "stdout",
     "output_type": "stream",
     "text": [
      "- Right to equality\n",
      "- Right to freedom of speech and expression\n",
      "- Right to assembly\n",
      "- Right to form associations\n",
      "- Right to move freely throughout the territory of India\n",
      "- Right to reside and settle in any part of the territory of India\n",
      "- Right to practise any profession, or to carry on any occupation, trade or business\n"
     ]
    }
   ],
   "execution_count": 76
  },
  {
   "metadata": {
    "ExecuteTime": {
     "end_time": "2024-09-02T18:51:35.283173Z",
     "start_time": "2024-09-02T18:51:35.281042Z"
    }
   },
   "cell_type": "code",
   "source": "",
   "id": "b74f5ad08cfe4044",
   "outputs": [],
   "execution_count": null
  },
  {
   "metadata": {},
   "cell_type": "code",
   "outputs": [],
   "execution_count": null,
   "source": "",
   "id": "a83fa112439f0a2f"
  }
 ],
 "metadata": {
  "kernelspec": {
   "display_name": "Python 3",
   "language": "python",
   "name": "python3"
  },
  "language_info": {
   "codemirror_mode": {
    "name": "ipython",
    "version": 2
   },
   "file_extension": ".py",
   "mimetype": "text/x-python",
   "name": "python",
   "nbconvert_exporter": "python",
   "pygments_lexer": "ipython2",
   "version": "2.7.6"
  }
 },
 "nbformat": 4,
 "nbformat_minor": 5
}
